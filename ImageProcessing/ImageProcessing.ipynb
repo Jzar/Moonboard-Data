{
 "cells": [
  {
   "cell_type": "markdown",
   "metadata": {},
   "source": [
    "### Image Processing\n",
    "\n",
    "- This program will process a file of a moonboard problem, and output the sequence\n",
    "\n"
   ]
  },
  {
   "cell_type": "code",
   "execution_count": 2,
   "metadata": {},
   "outputs": [],
   "source": [
    "\n",
    "\n",
    "from PIL import Image as im\n",
    "image = im.open(\"canvas.png\")\n",
    "\n",
    "pixels = image.load()\n",
    "\n",
    "\n",
    "def reload():\n",
    "    image = im.open(\"canvas.png\")\n",
    "    pixels = image.load()\n",
    "    return image\n"
   ]
  },
  {
   "cell_type": "code",
   "execution_count": 3,
   "metadata": {},
   "outputs": [
    {
     "data": {
      "text/plain": [
       "(397, 611)"
      ]
     },
     "execution_count": 3,
     "metadata": {},
     "output_type": "execute_result"
    }
   ],
   "source": [
    "image.size"
   ]
  },
  {
   "cell_type": "code",
   "execution_count": 17,
   "metadata": {},
   "outputs": [],
   "source": [
    "pixels[40,40] = (255,255,255,255)"
   ]
  },
  {
   "cell_type": "code",
   "execution_count": 4,
   "metadata": {},
   "outputs": [],
   "source": [
    "image.show()"
   ]
  },
  {
   "cell_type": "code",
   "execution_count": 5,
   "metadata": {},
   "outputs": [],
   "source": [
    "\n",
    "def check(offsetx,offsety,pixels):\n",
    "    for i in range(35):\n",
    "        for j in range(35):\n",
    "            pixels[i+offsetx,j+offsety] = (255,255,255,255)\n",
    "def border(left,right,top,bottom):\n",
    "    #top,bottom,left,right\n",
    "    for i in range(left,right):\n",
    "        pixels[top,i] = (0,0,0,0)\n",
    "        pixels[bottom,i] = (0,0,0,0)\n",
    "    for i in range(top,bottom):\n",
    "        pixels[i,left] = (0,0,0,0)\n",
    "        pixels[i,right] = (0,0,0,0)\n",
    "#for i in range(1,10):\n",
    "#   check(30*(i),30,pixels)"
   ]
  },
  {
   "cell_type": "code",
   "execution_count": 32,
   "metadata": {},
   "outputs": [],
   "source": [
    "\n",
    "#check(132,35,pixels)\n",
    "#(7,35)\n",
    "#397x611\n",
    "\n",
    "from PIL import Image as im\n",
    "\n",
    "x,y = 47,60\n",
    "CHECKDELTA = 19\n",
    "x2,y2 = x+ CHECKDELTA, y - CHECKDELTA\n",
    "\n",
    "RED = (255,0,0,255)\n",
    "GREEN = (0,255,0,255)\n",
    "BLUE = (0,0,255,255)\n",
    "DELTAx = 31\n",
    "DELTAy = 31\n",
    "TOLERANCE = 6\n",
    "SEARCH_SIZEx = 2\n",
    "SEARCH_SIZEy = 2\n",
    "\n",
    "y_dict = [\n",
    "        \"1\",\n",
    "        \"2\",\n",
    "        \"3\",\n",
    "        \"4\",\n",
    "        \"5\",\n",
    "        \"6\",\n",
    "        \"7\",\n",
    "        \"8\",\n",
    "        \"9\",\n",
    "        \"10\",\n",
    "        \"11\",\n",
    "        \"12\",\n",
    "        \"13\",\n",
    "        \"14\",\n",
    "        \"15\",\n",
    "        \"16\",\n",
    "        \"17\",\n",
    "        \"18\"\n",
    "\n",
    "    ]\n",
    "y_dict = y_dict[::-1]\n",
    "x_dict = [\n",
    "    \"K\",\n",
    "    \"J\",\n",
    "    \"I\",\n",
    "    \"H\",\n",
    "    \"G\",\n",
    "    \"F\",\n",
    "    \"E\",\n",
    "    \"D\",\n",
    "    \"C\",\n",
    "    \"B\",\n",
    "    \"A\" \n",
    "]\n",
    "x_dict = x_dict[::-1]\n",
    "\n",
    "def draw(x,y,pixels,COLOUR):\n",
    "    for i in range (x-SEARCH_SIZEx,x+SEARCH_SIZEx):\n",
    "        for j in range(y-SEARCH_SIZEy,y+SEARCH_SIZEy):\n",
    "            pixels[i,j] = COLOUR\n",
    "def evaluate(i,j,i2,j2, l1,l2,pixels):\n",
    "    c_r = 0\n",
    "    c_g = 0\n",
    "    c_b = 0\n",
    "    for x in range(i-SEARCH_SIZEx,i+SEARCH_SIZEx):\n",
    "        for y in range(j-SEARCH_SIZEy,j+SEARCH_SIZEy):\n",
    "            if(pixels[x,y] == RED ):\n",
    "                c_r +=1\n",
    "            elif(pixels[x,y] == GREEN ):\n",
    "                c_g += 1 \n",
    "            elif(pixels[x,y] == BLUE ):\n",
    "                c_b += 1\n",
    "    for x in range(i2-SEARCH_SIZEx,i2+SEARCH_SIZEx):\n",
    "        for y in range(j2-SEARCH_SIZEy,j2+SEARCH_SIZEy):\n",
    "            if(pixels[x,y] == RED ):\n",
    "                c_r +=1\n",
    "            elif(pixels[x,y] == GREEN ):\n",
    "                c_g += 1 \n",
    "            elif(pixels[x,y] == BLUE ):\n",
    "                c_b += 1\n",
    "                \n",
    "    if(c_r > TOLERANCE):\n",
    "        return ((x_dict[l1]+y_dict[l2]),\"END\")\n",
    "    if(c_b >TOLERANCE):\n",
    "        return ((x_dict[l1]+y_dict[l2]),\"INTERMEDIATE\")\n",
    "    if(c_g >TOLERANCE):\n",
    "        return ((x_dict[l1]+y_dict[l2]),\"START\")\n",
    "        \n",
    "    return \"NULL\"\n",
    "#image is a filename containing the image\n",
    "def process(image):\n",
    "    image = im.open(image)\n",
    "\n",
    "    pixels = image.load()\n",
    "    \n",
    "    path = []\n",
    "\n",
    "    for j in range(16,-1,-1):\n",
    "        y_i = y + j * DELTAy\n",
    "        y_j = y2 + j * DELTAy\n",
    "        for i in range(10,-1,-1):\n",
    "            x_i = x + i * DELTAx\n",
    "            x_j = x2 + i * DELTAx\n",
    "            #path.append(x_dict[i]+y_dict[j])\n",
    "            e = evaluate(x_i,y_i,x_j,y_j,i,j,pixels)\n",
    "            if( e !=\"NULL\"):\n",
    "                path.append(e)\n",
    "            draw(x_i,y_i,pixels,RED)\n",
    "            draw(x_j,y_j,pixels,BLUE)\n",
    "\n",
    "    #border(35,70,132,167)\n",
    "    #border(35,70,132-35,167-35)\n",
    "    #border(35,70,45,70)\n",
    "    #for i in range(1,10):\n",
    "    #    border(35,70,45+35*i,70+35*i)\n",
    "    image.show()\n",
    "    print (path)\n",
    "    return(path)"
   ]
  },
  {
   "cell_type": "code",
   "execution_count": 64,
   "metadata": {},
   "outputs": [
    {
     "ename": "NameError",
     "evalue": "name 'image' is not defined",
     "output_type": "error",
     "traceback": [
      "\u001b[0;31m---------------------------------------------------------------------------\u001b[0m",
      "\u001b[0;31mNameError\u001b[0m                                 Traceback (most recent call last)",
      "\u001b[0;32m<ipython-input-64-d946298b95dd>\u001b[0m in \u001b[0;36m<module>\u001b[0;34m\u001b[0m\n\u001b[0;32m----> 1\u001b[0;31m \u001b[0mimage\u001b[0m\u001b[0;34m.\u001b[0m\u001b[0mshow\u001b[0m\u001b[0;34m(\u001b[0m\u001b[0;34m)\u001b[0m\u001b[0;34m\u001b[0m\u001b[0;34m\u001b[0m\u001b[0m\n\u001b[0m",
      "\u001b[0;31mNameError\u001b[0m: name 'image' is not defined"
     ]
    }
   ],
   "source": [
    "image.show()"
   ]
  },
  {
   "cell_type": "code",
   "execution_count": 123,
   "metadata": {},
   "outputs": [],
   "source": [
    "pixels[x+DELTA*3,y] = (85,95,238,255)\n",
    "#pixels[x,y + DELTA*5]"
   ]
  },
  {
   "cell_type": "code",
   "execution_count": 3,
   "metadata": {},
   "outputs": [
    {
     "ename": "NameError",
     "evalue": "name 'image' is not defined",
     "output_type": "error",
     "traceback": [
      "\u001b[0;31m---------------------------------------------------------------------------\u001b[0m",
      "\u001b[0;31mNameError\u001b[0m                                 Traceback (most recent call last)",
      "\u001b[0;32m<ipython-input-3-d946298b95dd>\u001b[0m in \u001b[0;36m<module>\u001b[0;34m\u001b[0m\n\u001b[0;32m----> 1\u001b[0;31m \u001b[0mimage\u001b[0m\u001b[0;34m.\u001b[0m\u001b[0mshow\u001b[0m\u001b[0;34m(\u001b[0m\u001b[0;34m)\u001b[0m\u001b[0;34m\u001b[0m\u001b[0;34m\u001b[0m\u001b[0m\n\u001b[0m",
      "\u001b[0;31mNameError\u001b[0m: name 'image' is not defined"
     ]
    }
   ],
   "source": [
    "image.show()"
   ]
  },
  {
   "cell_type": "code",
   "execution_count": 34,
   "metadata": {},
   "outputs": [
    {
     "name": "stdout",
     "output_type": "stream",
     "text": [
      "[('I5', 'START'), ('F5', 'START'), ('G9', 'INTERMEDIATE'), ('E10', 'INTERMEDIATE'), ('H11', 'INTERMEDIATE'), ('I14', 'INTERMEDIATE'), ('F14', 'INTERMEDIATE'), ('G17', 'INTERMEDIATE'), ('I18', 'END')]\n"
     ]
    },
    {
     "data": {
      "text/plain": [
       "[('I5', 'START'),\n",
       " ('F5', 'START'),\n",
       " ('G9', 'INTERMEDIATE'),\n",
       " ('E10', 'INTERMEDIATE'),\n",
       " ('H11', 'INTERMEDIATE'),\n",
       " ('I14', 'INTERMEDIATE'),\n",
       " ('F14', 'INTERMEDIATE'),\n",
       " ('G17', 'INTERMEDIATE'),\n",
       " ('I18', 'END')]"
      ]
     },
     "execution_count": 34,
     "metadata": {},
     "output_type": "execute_result"
    }
   ],
   "source": [
    "process(\"t3.png\")"
   ]
  },
  {
   "cell_type": "code",
   "execution_count": null,
   "metadata": {},
   "outputs": [],
   "source": [
    "T1: \n",
    "    F5, \n",
    "    G6, \n",
    "    J7, \n",
    "    J8, \n",
    "    E10, \n",
    "    F11, \n",
    "    C13,\n",
    "    D13, \n",
    "    E15, \n",
    "    G18\n",
    "T2:\n",
    "    G2,\n",
    "    J2\n",
    "    G8\n",
    "    E8\n",
    "    F13\n",
    "    C13\n",
    "    C16\n",
    "    A18"
   ]
  }
 ],
 "metadata": {
  "kernelspec": {
   "display_name": "Python 3",
   "language": "python",
   "name": "python3"
  },
  "language_info": {
   "codemirror_mode": {
    "name": "ipython",
    "version": 3
   },
   "file_extension": ".py",
   "mimetype": "text/x-python",
   "name": "python",
   "nbconvert_exporter": "python",
   "pygments_lexer": "ipython3",
   "version": "3.7.2"
  }
 },
 "nbformat": 4,
 "nbformat_minor": 2
}
